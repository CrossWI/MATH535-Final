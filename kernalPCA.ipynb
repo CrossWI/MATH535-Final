{
 "cells": [
  {
   "cell_type": "markdown",
   "metadata": {},
   "source": [
    "# Theory"
   ]
  },
  {
   "cell_type": "markdown",
   "metadata": {},
   "source": [
    "First, we assume the projected features have zero mean:\n",
    "\n",
    "$$\n",
    "\\frac{1}{N}\\sum_{i=1}^{N}\\phi(x_i) = 0\n",
    "$$\n",
    "\n",
    "Next, we construct the covarience matrix of the projected features:\n",
    "\n",
    "$$\n",
    "C = \\frac{1}{N}\\sum_{i=1}^{N}\\phi(x_i)\\phi(x_i)^T\n",
    "$$\n",
    "\n",
    "The eigenvalues and eigenvectors of $C$ are given by:\n",
    "\n",
    "$$\n",
    "Cv_k = \\lambda_{k}v_k \\space\\space\\space \\forall \\space 1 \\leq k \\leq M\n",
    "$$\n",
    "\n",
    "It follows that:\n",
    "\n",
    "$$\n",
    "(\\frac{1}{N}\\sum_{i=1}^{N}\\phi(x_i)\\phi(x_i)^T)v_k = \\lambda_{k}v_k\n",
    "$$\n",
    "\n",
    "Let $a_k$ be a principal component in $\\mathbb{R}^d$, then $v_k = \\sum_{i=1}^{N}a_{k,i}\\phi(x_i)$. Substituting this into the previous equation gives:\n",
    "\n",
    "$$\n",
    "(\\frac{1}{N}\\sum_{i=1}^{N}\\phi(x_i)\\phi(x_i)^T)\\sum_{j=1}^{N}a_{k,j}\\phi(x_j) = \\lambda_{k}\\sum_{j=1}^{N}a_{k,j}\\phi(x_j)\n",
    "$$\n",
    "\n",
    "Now we define the kernel function as $\\kappa(x_i, x_j) = \\phi(x_i)^T\\phi(x_j)$\n",
    "\n",
    "If we multiply the eigenvector equation on both sides by $\\phi(x_l)^T$, then we get:\n",
    "\n"
   ]
  },
  {
   "cell_type": "markdown",
   "metadata": {},
   "source": [
    "$$\n",
    "\\frac{1}{N}\\sum_{i=1}^{N}\\phi(x_i)^T\\phi(x_i)\\phi(x_i)^T\\sum_{j=1}^{N}a_{k,j}\\phi(x_j) = \\lambda_{k}\\sum_{j=1}^{N}a_{k,j}\\phi(x_l)^T\\phi(x_j)\n",
    "$$\n",
    "\n",
    "$$\n",
    "\\implies\n",
    "$$\n",
    "\n",
    "$$\n",
    "\\sum_{i=1}^{N}\\kappa(x_l, x_i)\\sum_{j=1}^{N}a_{k,j}\\kappa(x_i, x_j) = N\\lambda_{k}\\sum_{j=1}^{N}a_{k,j}\\kappa(x_l, x_j)\n",
    "$$\n",
    "\n",
    "$$\n",
    "\\implies\n",
    "$$\n",
    "\n",
    "$$\n",
    "K^2a_k = N\\lambda_{k}Ka_k\n",
    "$$\n",
    "\n",
    "$a_k$ can be solved by:\n",
    "\n",
    "$$\n",
    "Ka_k = N\\lambda_{k}a_k\n",
    "$$\n",
    "\n",
    "Thus, the kernel principal components are found using:\n",
    "\n",
    "$$\n",
    "y_k(x) = \\phi(x)^Tv_k = \\sum_{j=1}^{N}a_{k,j}K_{x_i, x_j}\n",
    "$$"
   ]
  },
  {
   "cell_type": "markdown",
   "metadata": {},
   "source": [
    "Generally speaking, we cannot assume that the projected features have zero mean. Thus we have to centralize the data:\n",
    "\n",
    "$$\n",
    "\\widetilde\\phi(x_n) = \\phi(x_n) - \\frac{1}{N}\\sum_{i=1}^{N}\\phi(x_i)\n",
    "$$\n",
    "\n",
    "The elements of the Gram matrix are then:\n",
    "\n",
    "$$\n",
    "\\widetilde{K}_{nm} = \\widetilde\\phi(x_n)^T\\widetilde\\phi(x_m)\n",
    "$$\n",
    "\n",
    "$$\n",
    "\\implies\n",
    "$$\n",
    "\n",
    "$$\n",
    "= \\phi(x_n)^T\\phi(x_m) - \\frac{1}{N}\\sum_{i=1}^{N}\\phi(x_n)^T\\phi(x_i) - \\frac{1}{N}\\sum_{i=1}^{N}\\phi(x_i)^T\\phi(x_m) + \\frac{1}{N^2}\\sum\\limits_{j=1}^N\\sum\\limits_{i=1}^N \\phi(x_j)^T\\phi(x_i)\n",
    "$$\n",
    "\n",
    "$$\n",
    "\\implies\n",
    "$$\n",
    "\n",
    "$$\n",
    "= k(x_n,x_m) - \\frac{1}{N}\\sum_{i=1}^{N} k(x_i,x_m) - \\frac{1}{N}\\sum_{i=1}^{N} k(x_n,x_i) + \\frac{1}{N^2}\\sum\\limits_{j=1}^N\\sum\\limits_{i=1}^N k(x_j,x_i)\n",
    "$$\n",
    "\n",
    "Rewriting in matrix notation yields:\n",
    "\n",
    "$$\n",
    "\\widetilde{\\bf K} = {\\bf K - 1_{\\textnormal N}K - K1_{\\textnormal N} + 1_{\\textnormal N}K1_{\\textnormal N}}\n",
    "$$\n",
    "\n",
    "Where, by convention, ${\\bf 1_{\\textnormal N}}$ is the $N \\times N$ matrix with $1/N$ as entries.\n",
    "\n",
    "Using $\\widetilde{\\bf K}$ in place of ${\\bf K}$ in the previous derivations allows us to recover the kernel principal components in the same way as before."
   ]
  },
  {
   "cell_type": "code",
   "execution_count": 1,
   "metadata": {},
   "outputs": [],
   "source": [
    "import numpy as np\n",
    "import scipy as sc\n",
    "import matplotlib.pyplot as plt\n",
    "import tensorflow as tf\n",
    "from tensorflow import keras"
   ]
  },
  {
   "cell_type": "code",
   "execution_count": 2,
   "metadata": {},
   "outputs": [],
   "source": [
    "# Create Gaussian Kernel\n",
    "def gaus_kernel(X, sigma):\n",
    "\trow, col = X.shape\n",
    "\n",
    "\tprint(row)\n",
    "\n",
    "\tK = np.zeros([row, row])\n",
    "\n",
    "\tfor i in range(0,row):\n",
    "\t\tfor j in range(0,row):\n",
    "\t\t\tv_i = X[i]\n",
    "\t\t\tv_j = X[j]\n",
    "\t\t\tK[i,j] = np.linalg.norm(v_i.T - v_j.T)**2\n",
    "\n",
    "\tK *= - 1./(2 * np.power(sigma, 2))\n",
    "\treturn np.exp(K)"
   ]
  },
  {
   "cell_type": "code",
   "execution_count": 3,
   "metadata": {},
   "outputs": [],
   "source": [
    "\n",
    "# Convert the kernel into a Gram matrix\n",
    "def gram_matrix(gaus):\n",
    "\trow, col = gaus.shape\n",
    "\n",
    "\treturn gaus - ((np.ones((row, row)) / row) @ gaus) - (gaus @ (np.ones((row, row)) / row)) + ((np.ones((row, row)) / row) @ gaus @ np.identity(row))"
   ]
  },
  {
   "cell_type": "code",
   "execution_count": 4,
   "metadata": {},
   "outputs": [],
   "source": [
    "# Perform kernel PCA\n",
    "def kernel_pca(n_components, kernel):\n",
    "\teig_vals, eig_vectors = np.linalg.eigh(kernel)\n",
    "\teig_vals, eig_vectors = eig_vals[::-1], eig_vectors[:, ::-1]\n",
    "\n",
    "\tselected_eigvecs = np.column_stack([eig_vectors[:, i] for i in range(n_components)])\n",
    "\treturn selected_eigvecs\n",
    "\t# X_reconstructed = selected_eigvecs @ np.transpose(np.diag(eig_vals[:n_components]))\n",
    "\t# return X_reconstructed\n"
   ]
  },
  {
   "cell_type": "code",
   "execution_count": 5,
   "metadata": {},
   "outputs": [],
   "source": [
    "mnist = keras.datasets.mnist\n",
    "(imgs, labels), (test_imgs, test_labels) = mnist.load_data()\n",
    "\n",
    "i01 = [i for i in range(len(labels)) if (labels[i]==0) or (labels[i]==1)]\n",
    "imgs01 = imgs[i01]\n",
    "labels01 = labels[i01]"
   ]
  },
  {
   "cell_type": "code",
   "execution_count": 6,
   "metadata": {},
   "outputs": [
    {
     "name": "stdout",
     "output_type": "stream",
     "text": [
      "100\n"
     ]
    }
   ],
   "source": [
    "X = np.vstack([imgs01[i].flatten() for i in range(len(labels01))])\n",
    "y = labels01\n",
    "\n",
    "X_kpca = kernel_pca(20, gram_matrix(gaus_kernel(X[:100], 1)))"
   ]
  },
  {
   "cell_type": "code",
   "execution_count": 7,
   "metadata": {},
   "outputs": [
    {
     "name": "stdout",
     "output_type": "stream",
     "text": [
      "150\n"
     ]
    }
   ],
   "source": [
    "from sklearn.datasets import load_iris\n",
    "\n",
    "iris = load_iris()\n",
    "x = iris.data\n",
    "y = iris.target\n",
    "\n",
    "X_kpca = kernel_pca(2, gram_matrix(gaus_kernel(x, 15)))"
   ]
  },
  {
   "cell_type": "code",
   "execution_count": 8,
   "metadata": {},
   "outputs": [
    {
     "data": {
      "text/plain": [
       "[Text(0.5, 1.0, 'Iris data KernelPCA projection')]"
      ]
     },
     "execution_count": 8,
     "metadata": {},
     "output_type": "execute_result"
    },
    {
     "data": {
      "image/png": "[encoded data removed]",
      "text/plain": [
       "<Figure size 640x480 with 1 Axes>"
      ]
     },
     "metadata": {},
     "output_type": "display_data"
    }
   ],
   "source": [
    "import seaborn as sns\n",
    "import pandas as pd\n",
    "\n",
    "df = pd.DataFrame()\n",
    "df[\"y\"] = y\n",
    "df[\"comp-1\"] = X_kpca[:,0]\n",
    "df[\"comp-2\"] = X_kpca[:,1]\n",
    "\n",
    "sns.scatterplot(x=\"comp-1\", y=\"comp-2\", hue=df.y.tolist(),\n",
    "                palette=sns.color_palette(\"hls\", 3),\n",
    "                data=df).set(title=\"Iris data KernelPCA projection\")"
   ]
  },
  {
   "cell_type": "code",
   "execution_count": null,
   "metadata": {},
   "outputs": [],
   "source": []
  }
 ],
 "metadata": {
  "kernelspec": {
   "display_name": "Python 3.8.3 64-bit",
   "language": "python",
   "name": "python3"
  },
  "language_info": {
   "codemirror_mode": {
    "name": "ipython",
    "version": 3
   },
   "file_extension": ".py",
   "mimetype": "text/x-python",
   "name": "python",
   "nbconvert_exporter": "python",
   "pygments_lexer": "ipython3",
   "version": "3.8.3"
  },
  "orig_nbformat": 4,
  "vscode": {
   "interpreter": {
    "hash": "e774977668b7c0ae8309835a5187aa7fbf7669e7d0bb59755bc63e573643edcd"
   }
  }
 },
 "nbformat": 4,
 "nbformat_minor": 2
}
