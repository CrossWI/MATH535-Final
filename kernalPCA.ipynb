{
  "cells": [
    {
      "cell_type": "markdown",
      "metadata": {
        "id": "ynTro-0t8SvV"
      },
      "source": [
        "# Background"
      ]
    },
    {
      "cell_type": "markdown",
      "metadata": {
        "id": "kVX_51Fy8SvX"
      },
      "source": [
        "\n",
        "PCA is a commonly used dimensionality reduction technique that seeks to maximize the sample variance of the centered and normalized data (formula from pg 23 of 2.6.2.5 in latex) where $X$ denotes the data matrix, and $\\phi_1$ is the vector of loadings for the first principal component. A mathematically equivalent formulation is given by the eigenvectors of the covariance matrix $X^TX$, with the eigenvector associated with the largest eigenvalue corresponding to the first principal component. The process projects the data onto a lower dimension linear subspace, such that the data maintains as much of its original information as possible.\n",
        "\n",
        "\n",
        "An issue with utilizing standard PCA arises when considering linear separability. Singular value decomposition is a linear transformation, and as such, PCA does not work well when subjected to data with nonlinear decision boundaries.\n",
        "\n",
        "\n",
        "Kernel PCA is actually a more general case of standard PCA, and can generally handle nonlinear cases. The idea is to implement a nonlinear kernel function to project the data into a larger dimensional feature space where the data is then linearly separable, and then perform PCA. (figure 12.16 pg 587 microsoft).\n",
        "\n",
        "\n",
        "The MNIST dataset, as we have previously discussed, is a widely utilized set for training machine learning models. The set of handwritten digits consists of 60,000 training images, and 10,000 testing images, all of which are normalized according to size and grayscale levels. In this set in particular, the data is confined to a nonlinear subspace."
      ]
    },
    {
      "cell_type": "markdown",
      "metadata": {
        "id": "Q3e0WJ7o8SvX"
      },
      "source": [
        "# Theory"
      ]
    },
    {
      "cell_type": "markdown",
      "metadata": {
        "id": "RxMu33IH8SvX"
      },
      "source": [
        "First, we assume we have a nonlinear transformation $\\phi(x): D \\rightarrow M$ with $D >> M$. Each vector in the entry matrix $A$ is then projected using $\\phi(x_i)$ for all $x_i \\in A$. Standard PCA can be used in this new feature space, but it is costly and inefficient. This process can be simplified using kernel methods. We define our kernel method as:\n",
        "\n",
        "$$\n",
        "\\kappa(x_i, x_j) = exp(-\\frac{\\lVert x - y \\rVert^2}{2\\sigma^2}) = \\phi(x_i)^T\\phi(x_j)\n",
        "$$\n",
        "\n",
        "Generally speaking, we cannot assume that the projected features have zero mean. Thus we have to centralize the data:\n",
        "\n",
        "$$\n",
        "\\widetilde\\phi(x_n) = \\phi(x_n) - \\frac{1}{N}\\sum_{i=1}^{N}\\phi(x_i)\n",
        "$$\n",
        "\n",
        "The elements of the Gram matrix are then\n",
        "\n",
        "$$\n",
        "\\begin{align*}\n",
        "    \\widetilde{K}_{nm} & = \\widetilde\\phi(x_n)^T\\widetilde\\phi(x_m)\\\\\n",
        "        & = \\phi(x_n)^T\\phi(x_m) - \\frac{1}{N}\\sum_{i=1}^{N}\\phi(x_n)^T\\phi(x_i) - \\frac{1}{N}\\sum_{i=1}^{N}\\phi(x_i)^T\\phi(x_m) + \\frac{1}{N^2}\\sum\\limits_{j=1}^N\\sum\\limits_{i=1}^N \\phi(x_j)^T\\phi(x_i)\\\\\n",
        "        & = k(x_n,x_m) - \\frac{1}{N}\\sum_{i=1}^{N} k(x_i,x_m) - \\frac{1}{N}\\sum_{i=1}^{N} k(x_n,x_i) + \\frac{1}{N^2}\\sum\\limits_{j=1}^N\\sum\\limits_{i=1}^N k(x_j,x_i)\\\\\n",
        "\\end{align*}\n",
        "$$\n",
        "\n",
        "Rewriting in matrix notation yields\n",
        "\n",
        "$$\n",
        "\\widetilde{\\bf K} = {\\bf K - 1_{N}K - K1_{N} + 1_{N}K1_{N}}\n",
        "$$\n",
        "\n",
        "Where, by convention, ${\\bf 1_{N}}$ is the $N \\times N$ matrix with $1/N$ as entries. Using $\\widetilde{\\bf K}$ in place of ${\\bf K}$ will ensure the projected features have zero mean. Now, we construct the $M$ x $M$ covarience matrix of the projected features using\n",
        "\n",
        "$$\n",
        "C = \\frac{1}{N}\\sum_{i=1}^{N}\\phi(x_i)\\phi(x_i)^T\n",
        "$$\n",
        "\n",
        "The eigenvalues and eigenvectors of $C$ are given by\n",
        "\n",
        "$$\n",
        "Cv_k = \\lambda_{k}v_k \\space\\space\\space \\forall \\space 1 \\leq k \\leq M\n",
        "$$\n",
        "\n",
        "It follows that\n",
        "\n",
        "$$\n",
        "(\\frac{1}{N}\\sum_{i=1}^{N}\\phi(x_i)\\phi(x_i)^T)v_k = \\lambda_{k}v_k\n",
        "$$\n",
        "\n",
        "Let $a_k$ be a principal component in $\\mathbb{R}^d$, then $v_k = \\sum_{i=1}^{N}a_{k,i}\\phi(x_i)$. Substituting this into the previous equation gives\n",
        "\n",
        "$$\n",
        "(\\frac{1}{N}\\sum_{i=1}^{N}\\phi(x_i)\\phi(x_i)^T)\\sum_{j=1}^{N}a_{k,j}\\phi(x_j) = \\lambda_{k}\\sum_{j=1}^{N}a_{k,j}\\phi(x_j)\n",
        "$$\n",
        "\n",
        "Now we define the kernel function as $\\kappa(x_i, x_j) = \\phi(x_i)^T\\phi(x_j)$. If we multiply the eigenvector equation on both sides by $\\phi(x_l)^T$, then we get\n",
        "\n",
        "$$\n",
        "\\begin{align*}\n",
        "    \\frac{1}{N}\\sum_{i=1}^{N}\\phi(x_i)^T\\phi(x_i)\\phi(x_i)^T\\sum_{j=1}^{N}a_{k,j}\\phi(x_j) = \\lambda_{k}\\sum_{j=1}^{N}a_{k,j}\\phi(x_l)^T\\phi(x_j) & \\implies \\sum_{i=1}^{N}\\kappa(x_l, x_i)\\sum_{j=1}^{N}a_{k,j}\\kappa(x_i, x_j) = N\\lambda_{k}\\sum_{j=1}^{N}a_{k,j}\\kappa(x_l, x_j)\\\\\n",
        "    & \\implies K^2a_k = N\\lambda_{k}Ka_k\\\\\n",
        "    & \\implies Ka_k = N\\lambda_{k}a_k\n",
        "\\end{align*}\n",
        "$$\n",
        "\n",
        "Thus, the kernel principal components are found using:\n",
        "\n",
        "$$\n",
        "y_k(x) = \\phi(x)^Tv_k = \\sum_{j=1}^{N}a_{k,j}\\kappa(x, x_j)\n",
        "$$"
      ]
    },
    {
      "cell_type": "markdown",
      "metadata": {
        "id": "o_NjLLf28SvY"
      },
      "source": [
        "# Implementation"
      ]
    },
    {
      "cell_type": "markdown",
      "metadata": {
        "id": "g0zaYXVq8SvY"
      },
      "source": [
        "Before we start implementing kernel PCA in Python, we need to import the neccessary libraries and set up Google Colab"
      ]
    },
    {
      "cell_type": "code",
      "execution_count": 1,
      "metadata": {
        "id": "viDjU0Vl8SvY"
      },
      "outputs": [],
      "source": [
        "import numpy as np              # used for linear algebra methods\n",
        "import matplotlib.pyplot as plt # used for plotting results \n",
        "import tensorflow as tf         # used to access the MNIST dataset\n",
        "from tensorflow import keras    # used to access the MNIST dataset\n",
        "import pandas as pd             # used to convert principal components to a data frame\n",
        "import seaborn as sns           # used for graphing results"
      ]
    },
    {
      "cell_type": "markdown",
      "metadata": {
        "id": "O0V6cONA8SvY"
      },
      "source": [
        "Kernel PCA consists of four steps:\n",
        "1. Constructing the kernel matrix $K$ from the training data set\n",
        "2. Centralizing $K$ by computing the Gram matrix $\\widetilde{K}$\n",
        "3. Computing the kernel principal components $y_k(x)$\n",
        "\n",
        "Step 1: We create a function that takes in a training data set and sigma value and constructs the Gaussian kernel."
      ]
    },
    {
      "cell_type": "code",
      "execution_count": 2,
      "metadata": {
        "id": "tNrK2diG8SvZ"
      },
      "outputs": [],
      "source": [
        "# Create Gaussian Kernel\n",
        "def gaus_kernel(X, sigma):\n",
        "\trow, col = X.shape\n",
        "\n",
        "\tK = np.zeros([row, row])\n",
        "\n",
        "\tfor i in range(0,row):\n",
        "\t\tfor j in range(0,row):\n",
        "\t\t\tv_i = X[i]\n",
        "\t\t\tv_j = X[j]\n",
        "\t\t\tK[i,j] = np.exp(-np.linalg.norm(v_i.T - v_j.T)**2/(2 * np.power(sigma, 2)))\n",
        "\n",
        "\treturn K"
      ]
    },
    {
      "cell_type": "markdown",
      "metadata": {
        "id": "xgK3fdoM8SvZ"
      },
      "source": [
        "Step 2: We create a function to compute the Gram matrix to ensure the projected features are centralized."
      ]
    },
    {
      "cell_type": "code",
      "execution_count": 3,
      "metadata": {
        "id": "4Dbg6FF_8SvZ"
      },
      "outputs": [],
      "source": [
        "# Construct the Gram Matrix\n",
        "def gram_matrix(K):\n",
        "\trow, col = K.shape\n",
        "\n",
        "\tone_N = np.ones((row, col)) / row\n",
        "\tK_tilde = K - (one_N @ K) - (K @ one_N) + (one_N @ K @ one_N)\n",
        "\treturn K_tilde"
      ]
    },
    {
      "cell_type": "markdown",
      "metadata": {
        "id": "O5bcDqZT8SvZ"
      },
      "source": [
        "Step 3: Compute the kernel principal components $y_k(x)$"
      ]
    },
    {
      "cell_type": "code",
      "execution_count": 4,
      "metadata": {
        "id": "gIAYs3Hi8SvZ"
      },
      "outputs": [],
      "source": [
        "# Compute the kernel principal components\n",
        "def compute_principal_components(K_tilde):\n",
        "  eig_vals, eig_vectors = np.linalg.eigh(K_tilde)\n",
        "  eig_vals, eig_vectors = eig_vals[::-1], eig_vectors[:, ::-1]\n",
        "\n",
        "  return np.column_stack([eig_vectors[:, i] for i in range(len(eig_vectors))])\n"
      ]
    },
    {
      "cell_type": "markdown",
      "metadata": {
        "id": "TtQP3W508SvZ"
      },
      "source": [
        "# Data"
      ]
    },
    {
      "cell_type": "markdown",
      "source": [
        "We will be using Kernel PCA to differentiate between handwritten zeros and ones using the first two principal components. The handwritten numbers are obtained from the MNIST dataset, which is a large database of handwritten digits used for training various image processing systems and machine learning models. Before we work with the dataset, we want to load the data in and convert it into matrices."
      ],
      "metadata": {
        "id": "Gxd0VoC4Zxr0"
      }
    },
    {
      "cell_type": "code",
      "execution_count": 5,
      "metadata": {
        "id": "q-bWBm-l8Sva",
        "outputId": "6364d763-f06b-4683-f1f5-f54ef6d4f4b9",
        "colab": {
          "base_uri": "https://localhost:8080/",
          "height": 0
        }
      },
      "outputs": [
        {
          "output_type": "stream",
          "name": "stdout",
          "text": [
            "Downloading data from https://storage.googleapis.com/tensorflow/tf-keras-datasets/mnist.npz\n",
            "11490434/11490434 [==============================] - 1s 0us/step\n"
          ]
        }
      ],
      "source": [
        "mnist = keras.datasets.mnist\n",
        "(train_imgs, train_labels), (test_imgs, test_labels) = mnist.load_data()"
      ]
    },
    {
      "cell_type": "markdown",
      "source": [
        "Here is the first image and its corresponding label from the training dataset:"
      ],
      "metadata": {
        "id": "KJSia6jta9hl"
      }
    },
    {
      "cell_type": "code",
      "source": [
        "plt.figure()\n",
        "plt.imshow(train_imgs[0])\n",
        "plt.show()\n",
        "\n",
        "print(train_labels[0])"
      ],
      "metadata": {
        "id": "LU8RlkbNa930",
        "outputId": "e260c23b-7111-4f3d-94cd-ab9a93758053",
        "colab": {
          "base_uri": "https://localhost:8080/",
          "height": 283
        }
      },
      "execution_count": 6,
      "outputs": [
        {
          "output_type": "display_data",
          "data": {
            "text/plain": [
              "<Figure size 432x288 with 1 Axes>"
            ],
            "image/png": "[encoded data removed]"
          },
          "metadata": {
            "needs_background": "light"
          }
        },
        {
          "output_type": "stream",
          "name": "stdout",
          "text": [
            "5\n"
          ]
        }
      ]
    },
    {
      "cell_type": "markdown",
      "metadata": {
        "id": "c1zEougs8Sva"
      },
      "source": [
        "Instead of performing PCA on all of the data, we will look at the zeros and ones specifically. We will need to filter the data accordingly."
      ]
    },
    {
      "cell_type": "code",
      "source": [
        "i01 = [i for i in range(len(train_labels[0:10000])) if (train_labels[i]==0) or (train_labels[i]==1)]\n",
        "train_imgs01 = train_imgs[i01]\n",
        "train_labels01 = train_labels[i01]"
      ],
      "metadata": {
        "id": "aulrGa1BbnqR"
      },
      "execution_count": 9,
      "outputs": []
    },
    {
      "cell_type": "markdown",
      "source": [
        "The first sample in the subset is:"
      ],
      "metadata": {
        "id": "fp-vshZpbwWD"
      }
    },
    {
      "cell_type": "code",
      "source": [
        "plt.figure()\n",
        "plt.imshow(train_imgs01[0])\n",
        "plt.show()\n",
        "\n",
        "print(train_labels01[0])"
      ],
      "metadata": {
        "id": "YLwJZNy-b0fD",
        "outputId": "6bafa5bb-4e54-4b20-b537-f18263daa249",
        "colab": {
          "base_uri": "https://localhost:8080/",
          "height": 283
        }
      },
      "execution_count": 10,
      "outputs": [
        {
          "output_type": "display_data",
          "data": {
            "text/plain": [
              "<Figure size 432x288 with 1 Axes>"
            ],
            "image/png": "[encoded data removed]"
          },
          "metadata": {
            "needs_background": "light"
          }
        },
        {
          "output_type": "stream",
          "name": "stdout",
          "text": [
            "0\n"
          ]
        }
      ]
    },
    {
      "cell_type": "markdown",
      "source": [
        "Now we need to transform the samples into vectors:"
      ],
      "metadata": {
        "id": "_saa3ueBcBGd"
      }
    },
    {
      "cell_type": "code",
      "execution_count": 11,
      "metadata": {
        "id": "NfVtnlak8Sva"
      },
      "outputs": [],
      "source": [
        "X = np.vstack([train_imgs01[i].flatten() for i in range(len(train_labels01))])\n",
        "y = train_labels01"
      ]
    },
    {
      "cell_type": "markdown",
      "source": [
        "Lastly, we will run our kernel PCA implementation on the samples and graph the first two principle components. The value for sigma was found using trial and error to achieve the best seperation."
      ],
      "metadata": {
        "id": "M52ivjKecNSm"
      }
    },
    {
      "cell_type": "code",
      "source": [
        "K = gaus_kernel(X, 2000)\n",
        "K_tilde = gram_matrix(K)\n",
        "K_kpca = compute_principal_components(K_tilde)\n",
        "\n",
        "df = pd.DataFrame()\n",
        "df[\"y\"] = y[0:10000]\n",
        "df[\"PC1\"] = K_kpca[:,0]\n",
        "df[\"PC2\"] = K_kpca[:,1]\n",
        "\n",
        "sns.scatterplot(x=\"PC1\", y=\"PC2\", hue=df.y.tolist(),\n",
        "                palette=sns.color_palette(\"hls\", 2),\n",
        "                data=df).set(title=\"Kernel PCA\")"
      ],
      "metadata": {
        "id": "fnpraBSlcWs3",
        "outputId": "5154beae-559a-4a08-8947-fab42331e860",
        "colab": {
          "base_uri": "https://localhost:8080/",
          "height": 313
        }
      },
      "execution_count": 32,
      "outputs": [
        {
          "output_type": "execute_result",
          "data": {
            "text/plain": [
              "[Text(0.5, 1.0, 'Image KernelPCA projection')]"
            ]
          },
          "metadata": {},
          "execution_count": 32
        },
        {
          "output_type": "display_data",
          "data": {
            "text/plain": [
              "<Figure size 432x288 with 1 Axes>"
            ],
            "image/png": "[encoded data removed]"
          },
          "metadata": {
            "needs_background": "light"
          }
        }
      ]
    },
    {
      "cell_type": "markdown",
      "source": [
        "As we can see, the data is seperated well using two principal components. This data can be used in a linear classifier to predict the classification of future handwritten zeros or ones."
      ],
      "metadata": {
        "id": "wM_-9hnkcfP4"
      }
    },
    {
      "cell_type": "markdown",
      "metadata": {
        "id": "HlSRUpEm8Sva"
      },
      "source": [
        "# References"
      ]
    },
    {
      "cell_type": "markdown",
      "metadata": {
        "id": "chJFrOyS8Sva"
      },
      "source": [
        "- Bishop, Christopher M. Pattern Recognition\n",
        "and Machine Learning. Springer, Cambridge, U.K., 2006.\n",
        "- “Kernel Principal Component Analysis.” Wikipedia, Wikimedia Foundation, 24 Nov. 2021, https://en.wikipedia.org/wiki/Kernel_principal_component_analysis#:~:text=In%20the%20field%20of%20multivariate,a%20reproducing%20kernel%20Hilbert%20space.\n",
        "- “MNIST Database.” Wikipedia, Wikimedia Foundation, 31 July 2022, https://en.wikipedia.org/wiki/MNIST_database. \n",
        "- Roch, Sebastien. “Chapter 4 - Optimization in Machine Learning.” MATH 535, 13 Mar. 2022, https://people.math.wisc.edu/~roch/mmids/roch-mmids-opt-1motiv.html.\n",
        "- Wang, Quan. Kernel Principal Component Analysis and its Applications in\n",
        "Face Recognition and Active Shape Models. Rensselaer Polytechnic Institute, Troy, N.Y, 2014. "
      ]
    }
  ],
  "metadata": {
    "kernelspec": {
      "display_name": "Python 3.8.3 64-bit",
      "language": "python",
      "name": "python3"
    },
    "language_info": {
      "codemirror_mode": {
        "name": "ipython",
        "version": 3
      },
      "file_extension": ".py",
      "mimetype": "text/x-python",
      "name": "python",
      "nbconvert_exporter": "python",
      "pygments_lexer": "ipython3",
      "version": "3.8.3"
    },
    "orig_nbformat": 4,
    "vscode": {
      "interpreter": {
        "hash": "e774977668b7c0ae8309835a5187aa7fbf7669e7d0bb59755bc63e573643edcd"
      }
    },
    "colab": {
      "provenance": []
    }
  },
  "nbformat": 4,
  "nbformat_minor": 0
}